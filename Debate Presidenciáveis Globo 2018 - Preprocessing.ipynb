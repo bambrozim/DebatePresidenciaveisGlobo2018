{
 "cells": [
  {
   "cell_type": "code",
   "execution_count": 1,
   "metadata": {},
   "outputs": [
    {
     "name": "stderr",
     "output_type": "stream",
     "text": [
      "D:\\Anaconda\\lib\\importlib\\_bootstrap.py:219: RuntimeWarning: numpy.dtype size changed, may indicate binary incompatibility. Expected 96, got 88\n",
      "  return f(*args, **kwds)\n",
      "D:\\Anaconda\\lib\\importlib\\_bootstrap.py:219: RuntimeWarning: numpy.ufunc size changed, may indicate binary incompatibility. Expected 192, got 176\n",
      "  return f(*args, **kwds)\n",
      "D:\\Anaconda\\lib\\importlib\\_bootstrap.py:219: RuntimeWarning: numpy.dtype size changed, may indicate binary incompatibility. Expected 96, got 88\n",
      "  return f(*args, **kwds)\n",
      "D:\\Anaconda\\lib\\importlib\\_bootstrap.py:219: RuntimeWarning: numpy.ufunc size changed, may indicate binary incompatibility. Expected 192, got 176\n",
      "  return f(*args, **kwds)\n"
     ]
    }
   ],
   "source": [
    "import pandas as pd\n",
    "import numpy as np\n",
    "\n",
    "import json\n",
    "import spacy"
   ]
  },
  {
   "cell_type": "code",
   "execution_count": 2,
   "metadata": {},
   "outputs": [],
   "source": [
    "pd.set_option('display.max_rows', 200_000)\n",
    "pd.set_option('display.max_columns', 500)\n",
    "pd.set_option('display.max_colwidth', 2_500)"
   ]
  },
  {
   "cell_type": "code",
   "execution_count": 3,
   "metadata": {},
   "outputs": [],
   "source": [
    "files = ['debate_globo_1.txt', 'debate_globo_2.txt', 'debate_globo_3.txt', 'debate_globo_4.txt', 'debate_globo_5.txt', 'debate_globo_6.txt']\n",
    "\n",
    "data = []\n",
    "for file in files:\n",
    "    for line in open(file, 'r'):\n",
    "        if line != '\\n':\n",
    "            data.append(json.loads(line))"
   ]
  },
  {
   "cell_type": "code",
   "execution_count": 4,
   "metadata": {},
   "outputs": [
    {
     "data": {
      "text/plain": [
       "548660"
      ]
     },
     "execution_count": 4,
     "metadata": {},
     "output_type": "execute_result"
    }
   ],
   "source": [
    "len(data)"
   ]
  },
  {
   "cell_type": "code",
   "execution_count": 5,
   "metadata": {},
   "outputs": [],
   "source": [
    "data = [line for line in data if 'created_at' in line]"
   ]
  },
  {
   "cell_type": "code",
   "execution_count": 6,
   "metadata": {},
   "outputs": [
    {
     "data": {
      "text/plain": [
       "508503"
      ]
     },
     "execution_count": 6,
     "metadata": {},
     "output_type": "execute_result"
    }
   ],
   "source": [
    "len(data)"
   ]
  },
  {
   "cell_type": "code",
   "execution_count": 9,
   "metadata": {},
   "outputs": [
    {
     "data": {
      "text/plain": [
       "{'created_at': 'Fri Oct 05 00:51:03 +0000 2018',\n",
       " 'id': 1048012658304323589,\n",
       " 'id_str': '1048012658304323589',\n",
       " 'text': 'Nada de glória a Deux hoje af\\n\\n\"TSE nega pedido, e Daciolo não poderá participar de debate\"  https://t.co/Cnt0Y7er1C',\n",
       " 'source': '<a href=\"http://twitter.com/download/android\" rel=\"nofollow\">Twitter for Android</a>',\n",
       " 'truncated': False,\n",
       " 'in_reply_to_status_id': None,\n",
       " 'in_reply_to_status_id_str': None,\n",
       " 'in_reply_to_user_id': None,\n",
       " 'in_reply_to_user_id_str': None,\n",
       " 'in_reply_to_screen_name': None,\n",
       " 'user': {'id': 939191085464768512,\n",
       "  'id_str': '939191085464768512',\n",
       "  'name': 'yuni sato #12',\n",
       "  'screen_name': 'yunisatto',\n",
       "  'location': 'Mato Grosso do Sul, Brasil',\n",
       "  'url': None,\n",
       "  'description': None,\n",
       "  'translator_type': 'none',\n",
       "  'protected': False,\n",
       "  'verified': False,\n",
       "  'followers_count': 2665,\n",
       "  'friends_count': 2633,\n",
       "  'listed_count': 0,\n",
       "  'favourites_count': 16397,\n",
       "  'statuses_count': 3947,\n",
       "  'created_at': 'Fri Dec 08 17:52:58 +0000 2017',\n",
       "  'utc_offset': None,\n",
       "  'time_zone': None,\n",
       "  'geo_enabled': True,\n",
       "  'lang': 'pt',\n",
       "  'contributors_enabled': False,\n",
       "  'is_translator': False,\n",
       "  'profile_background_color': 'F5F8FA',\n",
       "  'profile_background_image_url': '',\n",
       "  'profile_background_image_url_https': '',\n",
       "  'profile_background_tile': False,\n",
       "  'profile_link_color': '1DA1F2',\n",
       "  'profile_sidebar_border_color': 'C0DEED',\n",
       "  'profile_sidebar_fill_color': 'DDEEF6',\n",
       "  'profile_text_color': '333333',\n",
       "  'profile_use_background_image': True,\n",
       "  'profile_image_url': 'http://pbs.twimg.com/profile_images/1048008026077245440/QGnueG7t_normal.jpg',\n",
       "  'profile_image_url_https': 'https://pbs.twimg.com/profile_images/1048008026077245440/QGnueG7t_normal.jpg',\n",
       "  'profile_banner_url': 'https://pbs.twimg.com/profile_banners/939191085464768512/1538700163',\n",
       "  'default_profile': True,\n",
       "  'default_profile_image': False,\n",
       "  'following': None,\n",
       "  'follow_request_sent': None,\n",
       "  'notifications': None},\n",
       " 'geo': None,\n",
       " 'coordinates': None,\n",
       " 'place': None,\n",
       " 'contributors': None,\n",
       " 'is_quote_status': False,\n",
       " 'quote_count': 0,\n",
       " 'reply_count': 0,\n",
       " 'retweet_count': 0,\n",
       " 'favorite_count': 0,\n",
       " 'entities': {'hashtags': [],\n",
       "  'urls': [{'url': 'https://t.co/Cnt0Y7er1C',\n",
       "    'expanded_url': 'https://twitter.com/i/events/1047966144139649029',\n",
       "    'display_url': 'twitter.com/i/events/10479…',\n",
       "    'indices': [93, 116]}],\n",
       "  'user_mentions': [],\n",
       "  'symbols': []},\n",
       " 'favorited': False,\n",
       " 'retweeted': False,\n",
       " 'possibly_sensitive': False,\n",
       " 'filter_level': 'low',\n",
       " 'lang': 'pt',\n",
       " 'timestamp_ms': '1538700663530'}"
      ]
     },
     "execution_count": 9,
     "metadata": {},
     "output_type": "execute_result"
    }
   ],
   "source": [
    "data[0]"
   ]
  },
  {
   "cell_type": "code",
   "execution_count": 18,
   "metadata": {},
   "outputs": [],
   "source": [
    "tweets_list = []\n",
    "datetime = []\n",
    "\n",
    "for tweet in data:\n",
    "    date = pd.Timestamp(tweet['created_at'])\n",
    "    datetime.append(date + pd.Timedelta(hours=-3))\n",
    "    \n",
    "    try:\n",
    "        try:\n",
    "            if tweet['text'].startswith('RT'):\n",
    "                try:\n",
    "                    tweets_list.append(tweet['retweeted_status']['extended_tweet']['full_text'])\n",
    "                except:\n",
    "                    tweets_list.append(tweet['retweeted_status']['text'])\n",
    "            else:\n",
    "                tweets_list.append(tweet['text'])\n",
    "        except:\n",
    "            tweets_list.append(tweet['extended_tweet']['full_text'])\n",
    "    except:\n",
    "        tweets_list.append(tweet['text'])"
   ]
  },
  {
   "cell_type": "code",
   "execution_count": 19,
   "metadata": {},
   "outputs": [
    {
     "data": {
      "text/html": [
       "<div>\n",
       "<style scoped>\n",
       "    .dataframe tbody tr th:only-of-type {\n",
       "        vertical-align: middle;\n",
       "    }\n",
       "\n",
       "    .dataframe tbody tr th {\n",
       "        vertical-align: top;\n",
       "    }\n",
       "\n",
       "    .dataframe thead th {\n",
       "        text-align: right;\n",
       "    }\n",
       "</style>\n",
       "<table border=\"1\" class=\"dataframe\">\n",
       "  <thead>\n",
       "    <tr style=\"text-align: right;\">\n",
       "      <th></th>\n",
       "      <th>text</th>\n",
       "      <th>datetime</th>\n",
       "    </tr>\n",
       "  </thead>\n",
       "  <tbody>\n",
       "    <tr>\n",
       "      <th>0</th>\n",
       "      <td>Nada de glória a Deux hoje af\\n\\n\"TSE nega pedido, e Daciolo não poderá participar de debate\"  https://t.co/Cnt0Y7er1C</td>\n",
       "      <td>2018-10-04 21:51:03+00:00</td>\n",
       "    </tr>\n",
       "    <tr>\n",
       "      <th>1</th>\n",
       "      <td>Pra todo mundo que disse q vai p fora do Brasil se o bolsonaro ganhar eu tenho uma pergunta pra vcs...\\nJá compararam as passagens ? KKKK</td>\n",
       "      <td>2018-10-04 21:51:03+00:00</td>\n",
       "    </tr>\n",
       "    <tr>\n",
       "      <th>2</th>\n",
       "      <td>e desde quando o ciro gomes tá preso? vote ciro 12 https://t.co/9XjASmAxDv</td>\n",
       "      <td>2018-10-04 21:51:03+00:00</td>\n",
       "    </tr>\n",
       "    <tr>\n",
       "      <th>3</th>\n",
       "      <td>kd meu mosaico na tv com o debate, cruzeiro, nhl, nfl, mlb e de ferias com o ex ao mesmo tempo</td>\n",
       "      <td>2018-10-04 21:51:03+00:00</td>\n",
       "    </tr>\n",
       "    <tr>\n",
       "      <th>4</th>\n",
       "      <td>Se dependesse deste candidato e seu filho, 45 milhões de brasileiros não teriam sido beneficiados pela Lei Brasileira de Inclusão. #HaddadÉ13\\n\\nEntenda: https://t.co/yxPyG9C6OG https://t.co/cFRmOwYbvf</td>\n",
       "      <td>2018-10-04 21:51:03+00:00</td>\n",
       "    </tr>\n",
       "  </tbody>\n",
       "</table>\n",
       "</div>"
      ],
      "text/plain": [
       "                                                                                                                                                                                                        text  \\\n",
       "0                                                                                     Nada de glória a Deux hoje af\\n\\n\"TSE nega pedido, e Daciolo não poderá participar de debate\"  https://t.co/Cnt0Y7er1C   \n",
       "1                                                                  Pra todo mundo que disse q vai p fora do Brasil se o bolsonaro ganhar eu tenho uma pergunta pra vcs...\\nJá compararam as passagens ? KKKK   \n",
       "2                                                                                                                                 e desde quando o ciro gomes tá preso? vote ciro 12 https://t.co/9XjASmAxDv   \n",
       "3                                                                                                             kd meu mosaico na tv com o debate, cruzeiro, nhl, nfl, mlb e de ferias com o ex ao mesmo tempo   \n",
       "4  Se dependesse deste candidato e seu filho, 45 milhões de brasileiros não teriam sido beneficiados pela Lei Brasileira de Inclusão. #HaddadÉ13\\n\\nEntenda: https://t.co/yxPyG9C6OG https://t.co/cFRmOwYbvf   \n",
       "\n",
       "                   datetime  \n",
       "0 2018-10-04 21:51:03+00:00  \n",
       "1 2018-10-04 21:51:03+00:00  \n",
       "2 2018-10-04 21:51:03+00:00  \n",
       "3 2018-10-04 21:51:03+00:00  \n",
       "4 2018-10-04 21:51:03+00:00  "
      ]
     },
     "execution_count": 19,
     "metadata": {},
     "output_type": "execute_result"
    }
   ],
   "source": [
    "tweets = pd.DataFrame({'text': tweets_list, 'datetime': datetime})\n",
    "\n",
    "tweets.head()"
   ]
  },
  {
   "cell_type": "code",
   "execution_count": 20,
   "metadata": {},
   "outputs": [
    {
     "data": {
      "text/plain": [
       "(508503, 2)"
      ]
     },
     "execution_count": 20,
     "metadata": {},
     "output_type": "execute_result"
    }
   ],
   "source": [
    "tweets.shape"
   ]
  },
  {
   "cell_type": "code",
   "execution_count": 21,
   "metadata": {},
   "outputs": [],
   "source": [
    "#tweets.to_csv('tweets_debate_globo.csv', index=False)"
   ]
  },
  {
   "cell_type": "code",
   "execution_count": 22,
   "metadata": {},
   "outputs": [
    {
     "name": "stderr",
     "output_type": "stream",
     "text": [
      "D:\\Anaconda\\lib\\importlib\\_bootstrap.py:219: RuntimeWarning: numpy.dtype size changed, may indicate binary incompatibility. Expected 96, got 88\n",
      "  return f(*args, **kwds)\n",
      "D:\\Anaconda\\lib\\importlib\\_bootstrap.py:219: RuntimeWarning: numpy.ufunc size changed, may indicate binary incompatibility. Expected 192, got 176\n",
      "  return f(*args, **kwds)\n"
     ]
    }
   ],
   "source": [
    "from spacy.lang.pt.stop_words import STOP_WORDS"
   ]
  },
  {
   "cell_type": "code",
   "execution_count": 23,
   "metadata": {},
   "outputs": [],
   "source": [
    "import string\n",
    "SYMBOLS = ' '.join(string.punctuation).split(' ') + ['-', '...', '”', '”']"
   ]
  },
  {
   "cell_type": "code",
   "execution_count": 25,
   "metadata": {},
   "outputs": [],
   "source": [
    "nlp = spacy.load('pt')"
   ]
  },
  {
   "cell_type": "code",
   "execution_count": 27,
   "metadata": {},
   "outputs": [],
   "source": [
    "import re\n",
    "\n",
    "def normalizar(comment, lowercase, remove_stopwords):\n",
    "    if lowercase:\n",
    "        comment = comment.lower()\n",
    "    clean_comment = re.sub(r'\\bhttps://t\\.co/\\w+\\b', '', comment)\n",
    "    clean_comment = nlp(clean_comment)\n",
    "    lemmatized = list()\n",
    "    for word in clean_comment:\n",
    "        lemma = word.lemma_.strip()\n",
    "        if lemma:\n",
    "            if not remove_stopwords or (remove_stopwords and ((lemma not in STOP_WORDS) and (lemma not in SYMBOLS))):\n",
    "                lemmatized.append(lemma)\n",
    "    return \" \".join(lemmatized)"
   ]
  },
  {
   "cell_type": "code",
   "execution_count": 28,
   "metadata": {},
   "outputs": [],
   "source": [
    "tweets['text_clean'] = tweets['text'].apply(normalizar, lowercase=True, remove_stopwords=True)"
   ]
  },
  {
   "cell_type": "code",
   "execution_count": 29,
   "metadata": {},
   "outputs": [],
   "source": [
    "tweets_shuffled = tweets.sample(frac=1).reset_index(drop=True)"
   ]
  },
  {
   "cell_type": "code",
   "execution_count": 30,
   "metadata": {},
   "outputs": [],
   "source": [
    "tweets_shuffled.to_csv('tweets_debate_globo_limpo.csv', index=False)"
   ]
  },
  {
   "cell_type": "code",
   "execution_count": 64,
   "metadata": {},
   "outputs": [
    {
     "data": {
      "text/html": [
       "<div>\n",
       "<style scoped>\n",
       "    .dataframe tbody tr th:only-of-type {\n",
       "        vertical-align: middle;\n",
       "    }\n",
       "\n",
       "    .dataframe tbody tr th {\n",
       "        vertical-align: top;\n",
       "    }\n",
       "\n",
       "    .dataframe thead th {\n",
       "        text-align: right;\n",
       "    }\n",
       "</style>\n",
       "<table border=\"1\" class=\"dataframe\">\n",
       "  <thead>\n",
       "    <tr style=\"text-align: right;\">\n",
       "      <th></th>\n",
       "      <th>text</th>\n",
       "      <th>datetime</th>\n",
       "      <th>text_clean</th>\n",
       "    </tr>\n",
       "  </thead>\n",
       "  <tbody>\n",
       "    <tr>\n",
       "      <th>0</th>\n",
       "      <td>Boulos disse o essencial, que ninguem está dizendo: a democracia está em perigo. Isso é sério pra caralho.</td>\n",
       "      <td>2018-10-04 22:42:25+00:00</td>\n",
       "      <td>boulos o essencial ninguem o democracia perigar sério pra caralho</td>\n",
       "    </tr>\n",
       "    <tr>\n",
       "      <th>1</th>\n",
       "      <td>Debate nada, vou é assistir Netflix</td>\n",
       "      <td>2018-10-04 23:17:46+00:00</td>\n",
       "      <td>debater nado assistir netflix</td>\n",
       "    </tr>\n",
       "    <tr>\n",
       "      <th>2</th>\n",
       "      <td>Boulos: A\\r\\nEu: CONTE COMIGO PRA TUDO (nas próximas eleições)</td>\n",
       "      <td>2018-10-04 23:19:00+00:00</td>\n",
       "      <td>boulos o contar comigo pra o eleição</td>\n",
       "    </tr>\n",
       "    <tr>\n",
       "      <th>3</th>\n",
       "      <td>O microfone do Meirelles caiu agora.\\r\\n\\r\\nO ponto, já faz uns 30 anos.</td>\n",
       "      <td>2018-10-04 22:27:35+00:00</td>\n",
       "      <td>o microfone meirelles cair o pontar 30</td>\n",
       "    </tr>\n",
       "    <tr>\n",
       "      <th>4</th>\n",
       "      <td>PROPOSTAS DE BOLSONARO\\r\\n- Fim do 13º e férias\\r\\n- Redução da licença maternidade\\r\\n- IR igual pra ricos e POBRES\\r\\n- Volta da CPMF\\r\\n- Fim do Bolsa Família e projetos sociais\\r\\n- Entrega da Petrobrás,BB e Caixa para americanos\\r\\n- Mais armas em circulação\\r\\n- Teto de gastos com saúde e educação</td>\n",
       "      <td>2018-10-04 22:31:34+00:00</td>\n",
       "      <td>proposto bolsonaro 13º e féria redução licença maternidade igual pra rico e pobre voltar cpmf bolsar família e projetos social entregar petrobrás b e caixa parir americano armar circulação teto gasto saudar e educação</td>\n",
       "    </tr>\n",
       "  </tbody>\n",
       "</table>\n",
       "</div>"
      ],
      "text/plain": [
       "                                                                                                                                                                                                                                                                                                               text  \\\n",
       "0                                                                                                                                                                                                        Boulos disse o essencial, que ninguem está dizendo: a democracia está em perigo. Isso é sério pra caralho.   \n",
       "1                                                                                                                                                                                                                                                                               Debate nada, vou é assistir Netflix   \n",
       "2                                                                                                                                                                                                                                                    Boulos: A\\r\\nEu: CONTE COMIGO PRA TUDO (nas próximas eleições)   \n",
       "3                                                                                                                                                                                                                                          O microfone do Meirelles caiu agora.\\r\\n\\r\\nO ponto, já faz uns 30 anos.   \n",
       "4  PROPOSTAS DE BOLSONARO\\r\\n- Fim do 13º e férias\\r\\n- Redução da licença maternidade\\r\\n- IR igual pra ricos e POBRES\\r\\n- Volta da CPMF\\r\\n- Fim do Bolsa Família e projetos sociais\\r\\n- Entrega da Petrobrás,BB e Caixa para americanos\\r\\n- Mais armas em circulação\\r\\n- Teto de gastos com saúde e educação   \n",
       "\n",
       "                    datetime  \\\n",
       "0  2018-10-04 22:42:25+00:00   \n",
       "1  2018-10-04 23:17:46+00:00   \n",
       "2  2018-10-04 23:19:00+00:00   \n",
       "3  2018-10-04 22:27:35+00:00   \n",
       "4  2018-10-04 22:31:34+00:00   \n",
       "\n",
       "                                                                                                                                                                                                                  text_clean  \n",
       "0                                                                                                                                                          boulos o essencial ninguem o democracia perigar sério pra caralho  \n",
       "1                                                                                                                                                                                              debater nado assistir netflix  \n",
       "2                                                                                                                                                                                       boulos o contar comigo pra o eleição  \n",
       "3                                                                                                                                                                                     o microfone meirelles cair o pontar 30  \n",
       "4  proposto bolsonaro 13º e féria redução licença maternidade igual pra rico e pobre voltar cpmf bolsar família e projetos social entregar petrobrás b e caixa parir americano armar circulação teto gasto saudar e educação  "
      ]
     },
     "execution_count": 64,
     "metadata": {},
     "output_type": "execute_result"
    }
   ],
   "source": [
    "tweets_clean = pd.read_csv('tweets_debate_globo_limpo.csv')\n",
    "\n",
    "tweets_clean.head()"
   ]
  },
  {
   "cell_type": "code",
   "execution_count": 65,
   "metadata": {},
   "outputs": [],
   "source": [
    "tweets_clean = tweets_clean[tweets_clean['text_clean'].notnull()].copy().reset_index(drop=True)"
   ]
  },
  {
   "cell_type": "code",
   "execution_count": 125,
   "metadata": {},
   "outputs": [],
   "source": [
    "sentiments_list = [0, -1, 1, -1, -1, 0, -1, 1, 0, 0, #0xx\n",
    "                   1, -1, -1, -1, 0, -1, 0, 1, 1, 0,\n",
    "                   0, -1, -1, 1, 0, 1, 1, 1, -1, 1,\n",
    "                   1, 0, 1, 0, 1, -1, -1, -1, -1, -1,\n",
    "                   1, -1, 1, -1, -1, 0, 0, -1, -1, -1,\n",
    "                   0, -1, 1, 0, 0, -1, -1, -1, -1, 1,\n",
    "                   -1, -1, 0, -1, -1, -1, -1, -1, -1, 1,\n",
    "                   1, 1, 1, -1, -1, 1, 1, -1, -1, -1,\n",
    "                   1, 1, -1, -1, 0, 1, 1, -1, 1, 0,\n",
    "                   1, 1, -1, -1, -1, -1, -1, 1, 1, 1,\n",
    "                   1, 1, -1, -1, -1, 0, -1, 1, -1, -1, #1xx\n",
    "                   -1, 0, -1, 1, -1, 1, 0, -1, -1, -1,\n",
    "                   -1, -1, -1, 0, 0, 0, -1, -1, 0, -1,\n",
    "                   1, 1, 0, -1, -1, 1, 1, 1, 1, 0,\n",
    "                   -1, 1, 0, -1, -1, -1, 0, -1, 0, 1,\n",
    "                   1, -1, 0, 1, 1, -1, 0, 0, -1, -1,\n",
    "                   1, 1, 1, 0, 1, 1, 1, 0, -1, 1,\n",
    "                   1, 1, 0, 0, -1, -1, -1, 0, -1, -1,\n",
    "                   0, -1, 0, 1, -1, -1, -1, 0, 0, 0,\n",
    "                   0, -1, 1, 1, 0, -1, 0, -1, 1, -1,\n",
    "                   1, 1, 0, 1, 1, 1, 0, 0, -1, 1,   #2xx\n",
    "                   0, 1, 0, -1, 0, -1, -1, 0, -1, 0,\n",
    "                   0, -1, 1, 0, -1, 0, 1, 1, 1, 0,\n",
    "                   1, 1, 1, -1, -1, 1, 1, -1, -1, 1,\n",
    "                   1, 1, 0, 1, 0, 1, 1, -1, -1, 1,\n",
    "                   0, -1, 0, -1, 0, -1, 1, 0, -1, 1,\n",
    "                   0, 1, -1, 0, 0, 1, 1, 0, 0, -1,\n",
    "                   0, 0, 0, 1, -1, 1, 0, 1, 1, 0,\n",
    "                   -1, 1, 0, 1, 1, 1, -1, 1, 1, -1,\n",
    "                   0, 1, 1, 0, -1, -1, 0, -1, -1, 0,\n",
    "                   -1, 1, 0, -1, 1, 1, 1, -1, -1, -1,  #3xx\n",
    "                   -1, 0, 1, -1, 1, 0, 0, -1, 1, 1,\n",
    "                   -1, 0, 1, 1, -1, 1, -1, 1, 1, 0,\n",
    "                   -1, -1, -1, 0, -1, 1, 1, 1, 1, -1,\n",
    "                   -1, -1, 1, 0, -1, -1, 1, 1, -1, 1,\n",
    "                   1, -1, 1, -1, -1, -1, 1, -1, 0, 1,\n",
    "                   -1, 1, -1, 0, -1, 1, 1, -1, 1, 1,\n",
    "                   -1, 0, 0, -1, 0, -1, -1, 1, -1, 1,\n",
    "                   1, 0, 0, 1, 0, 0, -1, -1, 1, 1,\n",
    "                   -1, -1, -1, 1, -1, -1, -1, 1, 0, 0,\n",
    "                   -1, 1, -1, -1, 1, -1, -1, 0, 0, 1,  #4xx\n",
    "                   0, 1, 0, 0, 1, 0, 0, -1, 1, -1,\n",
    "                   1, 0, 0, 1, 1, 0, -1, 0, -1, 1,\n",
    "                   1, 1, 1, 1, -1, 1, -1, 1, -1, -1,\n",
    "                   -1, 0, 1, 0, 1, -1, -1, -1, -1, 0,\n",
    "                   1, 1, 1, 0, 0, 0, 1, -1, -1, -1,\n",
    "                   1, -1, -1, 1, 0, -1, 0, 1, -1, -1,\n",
    "                   -1, -1, 0, 1, -1, 1, 0, -1, -1, 0, \n",
    "                   1, 0, 1, 1, 0, 0, -1, 1, 1, 0,\n",
    "                   1, -1, -1, 0, -1, 1, 0, 1, -1, -1,\n",
    "                   -1, 1, -1, 0, 1, -1, 0, -1, 0, -1,  #5xx\n",
    "                   -1, 0, -1, -1, -1, -1, -1, 0, 0, -1,\n",
    "                   0, 0, 0, 0, 0, 1, -1, 1, -1, 0,\n",
    "                   1, -1, -1, 0, -1, -1, 0, -1, 1, -1,\n",
    "                   -1, -1, 1, -1, -1, 1, 1, 0, 1, -1,\n",
    "                   -1, -1, 1, 1, -1, -1, -1, 1, 0, -1,\n",
    "                   1, -1, -1, -1, 1, 1, -1, 1, -1, -1,\n",
    "                   -1, 1, -1, 1, -1, 0, -1, 0, -1, 1,\n",
    "                   -1, 1, -1, -1, 0, 1, 0, 1, 0, 1,\n",
    "                   -1, 1, -1, 1, 1, 0, 1, 0, -1, 0,\n",
    "                   1, -1, -1, -1, 1, -1, -1, 0, -1, 1,  #6xx\n",
    "                   1, 0, -1, 1, 1, 0, -1, -1, 1, -1,\n",
    "                   1, -1, 0, 1, -1, 0, 1, 1, 1, 0,\n",
    "                   1, -1, 0, 1, 0, 1, 1, 1, -1, 1,\n",
    "                   0, 1, -1, 1, 1, -1, 1, 1, 0, -1,\n",
    "                   1, -1, -1, 1, 1, -1, -1, -1, 0, 1,\n",
    "                   1, 1, 1, -1, -1, 1, -1, 1, 0, 1,\n",
    "                   0, 1, 0, 1, -1, -1, 0, -1, 0, -1,\n",
    "                   -1, -1, -1, 1, 0, -1, -1, 1, 0, 1,\n",
    "                   1, -1, -1, 1, -1, -1, -1, -1, -1, 1,\n",
    "                   -1, -1, -1, 1, 1, 1, -1, 1, -1, 1,   #7xx\n",
    "                   -1, -1, -1, 1, 1, 1, 1, 1, 0, -1,\n",
    "                   0, 0, -1, -1, 0, -1, 1, 0, 1, 1,\n",
    "                   -1, 1, 1, 1, 1, 1, -1, 1, 1, -1,\n",
    "                   -1, -1, -1, 1, -1, -1, -1, 0, -1, 1,\n",
    "                   1, 0, -1, -1, -1, -1, 1, -1, 0, 1,\n",
    "                   1, -1, 1, -1, 1, 1, -1, -1, 1, -1,\n",
    "                   1, 0, -1, -1, 0, -1, -1, -1, 0, -1,\n",
    "                   0, 1, 1, -1, 0, -1, -1, -1, -1, 1,\n",
    "                   -1, 0, -1, 1, 1, 1, 1, 0, -1, 0,\n",
    "                   0, 1, -1, 1, 1, -1, 0, 0, 0, 1,  #8xx\n",
    "                   1, 1, -1, -1, 1, 0, 0, -1, 1, 1,\n",
    "                   -1, 1, 0, -1, -1, -1, -1, 1, 0, 1,\n",
    "                   -1, 0, 1, 1, -1, -1, 0, 1, 1, 1,\n",
    "                   -1, -1, -1, 1, -1, -1, -1, 0, -1, 1,\n",
    "                   -1, -1, 1, 1, -1, 1, -1, -1, -1, 1,\n",
    "                   1, -1, 0, 1, 1, -1, 1, 1, 0, 1,\n",
    "                   1, -1, -1, 1, 1, -1, -1, -1, 0, 1,\n",
    "                   -1, 1, 0, 1, 1, -1, 1, 1, -1, 1,\n",
    "                   -1, -1, 0, -1, 0, 1, -1, -1, 0, -1,\n",
    "                   0, -1, -1, 0, -1, -1, 0, 0, 1, 1,  #9xx\n",
    "                   1, -1, -1, -1, 1, 1, -1, -1, 0, 0,\n",
    "                   -1, 1, 1, 0, 1, 1, 0, 1, 0, 0,\n",
    "                   0, 0, 0, 0, -1, 1, -1, -1, 1, 1,\n",
    "                   -1, 1, 0, 1, 1, 1, 1, 0, 0, 0,\n",
    "                   1, -1, -1, 1, -1, 1, -1, 1, 1, 0,\n",
    "                   0, 0, 0, -1, -1, 1, 1, 1, 1, 0,\n",
    "                   1, -1, 0, -1, 0, -1, 0, 1, 1, -1,\n",
    "                   1, -1, 0, 0, 1, 0, 1, -1, 1, -1,\n",
    "                   0, 1, -1, 0, -1, 0, -1, -1, -1, 1]"
   ]
  },
  {
   "cell_type": "code",
   "execution_count": 126,
   "metadata": {},
   "outputs": [
    {
     "data": {
      "text/plain": [
       "1000"
      ]
     },
     "execution_count": 126,
     "metadata": {},
     "output_type": "execute_result"
    }
   ],
   "source": [
    "len(sentiments_list)"
   ]
  },
  {
   "cell_type": "code",
   "execution_count": 129,
   "metadata": {},
   "outputs": [
    {
     "data": {
      "text/html": [
       "<div>\n",
       "<style scoped>\n",
       "    .dataframe tbody tr th:only-of-type {\n",
       "        vertical-align: middle;\n",
       "    }\n",
       "\n",
       "    .dataframe tbody tr th {\n",
       "        vertical-align: top;\n",
       "    }\n",
       "\n",
       "    .dataframe thead th {\n",
       "        text-align: right;\n",
       "    }\n",
       "</style>\n",
       "<table border=\"1\" class=\"dataframe\">\n",
       "  <thead>\n",
       "    <tr style=\"text-align: right;\">\n",
       "      <th></th>\n",
       "      <th>text</th>\n",
       "      <th>datetime</th>\n",
       "      <th>text_clean</th>\n",
       "      <th>sentiment</th>\n",
       "    </tr>\n",
       "  </thead>\n",
       "  <tbody>\n",
       "    <tr>\n",
       "      <th>0</th>\n",
       "      <td>Boulos disse o essencial, que ninguem está dizendo: a democracia está em perigo. Isso é sério pra caralho.</td>\n",
       "      <td>2018-10-04 22:42:25+00:00</td>\n",
       "      <td>boulos o essencial ninguem o democracia perigar sério pra caralho</td>\n",
       "      <td>0.0</td>\n",
       "    </tr>\n",
       "    <tr>\n",
       "      <th>1</th>\n",
       "      <td>Debate nada, vou é assistir Netflix</td>\n",
       "      <td>2018-10-04 23:17:46+00:00</td>\n",
       "      <td>debater nado assistir netflix</td>\n",
       "      <td>-1.0</td>\n",
       "    </tr>\n",
       "    <tr>\n",
       "      <th>2</th>\n",
       "      <td>Boulos: A\\r\\nEu: CONTE COMIGO PRA TUDO (nas próximas eleições)</td>\n",
       "      <td>2018-10-04 23:19:00+00:00</td>\n",
       "      <td>boulos o contar comigo pra o eleição</td>\n",
       "      <td>1.0</td>\n",
       "    </tr>\n",
       "    <tr>\n",
       "      <th>3</th>\n",
       "      <td>O microfone do Meirelles caiu agora.\\r\\n\\r\\nO ponto, já faz uns 30 anos.</td>\n",
       "      <td>2018-10-04 22:27:35+00:00</td>\n",
       "      <td>o microfone meirelles cair o pontar 30</td>\n",
       "      <td>-1.0</td>\n",
       "    </tr>\n",
       "    <tr>\n",
       "      <th>4</th>\n",
       "      <td>PROPOSTAS DE BOLSONARO\\r\\n- Fim do 13º e férias\\r\\n- Redução da licença maternidade\\r\\n- IR igual pra ricos e POBRES\\r\\n- Volta da CPMF\\r\\n- Fim do Bolsa Família e projetos sociais\\r\\n- Entrega da Petrobrás,BB e Caixa para americanos\\r\\n- Mais armas em circulação\\r\\n- Teto de gastos com saúde e educação</td>\n",
       "      <td>2018-10-04 22:31:34+00:00</td>\n",
       "      <td>proposto bolsonaro 13º e féria redução licença maternidade igual pra rico e pobre voltar cpmf bolsar família e projetos social entregar petrobrás b e caixa parir americano armar circulação teto gasto saudar e educação</td>\n",
       "      <td>-1.0</td>\n",
       "    </tr>\n",
       "  </tbody>\n",
       "</table>\n",
       "</div>"
      ],
      "text/plain": [
       "                                                                                                                                                                                                                                                                                                               text  \\\n",
       "0                                                                                                                                                                                                        Boulos disse o essencial, que ninguem está dizendo: a democracia está em perigo. Isso é sério pra caralho.   \n",
       "1                                                                                                                                                                                                                                                                               Debate nada, vou é assistir Netflix   \n",
       "2                                                                                                                                                                                                                                                    Boulos: A\\r\\nEu: CONTE COMIGO PRA TUDO (nas próximas eleições)   \n",
       "3                                                                                                                                                                                                                                          O microfone do Meirelles caiu agora.\\r\\n\\r\\nO ponto, já faz uns 30 anos.   \n",
       "4  PROPOSTAS DE BOLSONARO\\r\\n- Fim do 13º e férias\\r\\n- Redução da licença maternidade\\r\\n- IR igual pra ricos e POBRES\\r\\n- Volta da CPMF\\r\\n- Fim do Bolsa Família e projetos sociais\\r\\n- Entrega da Petrobrás,BB e Caixa para americanos\\r\\n- Mais armas em circulação\\r\\n- Teto de gastos com saúde e educação   \n",
       "\n",
       "                    datetime  \\\n",
       "0  2018-10-04 22:42:25+00:00   \n",
       "1  2018-10-04 23:17:46+00:00   \n",
       "2  2018-10-04 23:19:00+00:00   \n",
       "3  2018-10-04 22:27:35+00:00   \n",
       "4  2018-10-04 22:31:34+00:00   \n",
       "\n",
       "                                                                                                                                                                                                                  text_clean  \\\n",
       "0                                                                                                                                                          boulos o essencial ninguem o democracia perigar sério pra caralho   \n",
       "1                                                                                                                                                                                              debater nado assistir netflix   \n",
       "2                                                                                                                                                                                       boulos o contar comigo pra o eleição   \n",
       "3                                                                                                                                                                                     o microfone meirelles cair o pontar 30   \n",
       "4  proposto bolsonaro 13º e féria redução licença maternidade igual pra rico e pobre voltar cpmf bolsar família e projetos social entregar petrobrás b e caixa parir americano armar circulação teto gasto saudar e educação   \n",
       "\n",
       "   sentiment  \n",
       "0        0.0  \n",
       "1       -1.0  \n",
       "2        1.0  \n",
       "3       -1.0  \n",
       "4       -1.0  "
      ]
     },
     "execution_count": 129,
     "metadata": {},
     "output_type": "execute_result"
    }
   ],
   "source": [
    "sentiments = pd.Series(sentiments_list)\n",
    "\n",
    "tweets_clean['sentiment'] = sentiments\n",
    "\n",
    "tweets_clean.head()"
   ]
  },
  {
   "cell_type": "code",
   "execution_count": 130,
   "metadata": {},
   "outputs": [],
   "source": [
    "train = tweets_clean[tweets_clean['sentiment'].notnull()]\n",
    "\n",
    "holdout = tweets_clean[tweets_clean['sentiment'].isnull()].drop('sentiment', axis=1)\n",
    "\n",
    "train.to_csv('tweets_train.csv', index=False)\n",
    "holdout.to_csv('tweets_holdout.csv', index=False)"
   ]
  },
  {
   "cell_type": "code",
   "execution_count": null,
   "metadata": {},
   "outputs": [],
   "source": []
  }
 ],
 "metadata": {
  "kernelspec": {
   "display_name": "Python 3",
   "language": "python",
   "name": "python3"
  },
  "language_info": {
   "codemirror_mode": {
    "name": "ipython",
    "version": 3
   },
   "file_extension": ".py",
   "mimetype": "text/x-python",
   "name": "python",
   "nbconvert_exporter": "python",
   "pygments_lexer": "ipython3",
   "version": "3.6.6"
  }
 },
 "nbformat": 4,
 "nbformat_minor": 2
}
